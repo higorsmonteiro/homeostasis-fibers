{
 "cells": [
  {
   "cell_type": "markdown",
   "id": "comic-celebrity",
   "metadata": {},
   "source": [
    "# Numerical analysis of homeostasis - FFF"
   ]
  },
  {
   "cell_type": "markdown",
   "id": "guilty-provision",
   "metadata": {},
   "source": [
    "## Lib"
   ]
  },
  {
   "cell_type": "code",
   "execution_count": 13,
   "id": "hispanic-summary",
   "metadata": {},
   "outputs": [],
   "source": [
    "import sys\n",
    "import numpy as np\n",
    "import scipy as sp\n",
    "import matplotlib.pyplot as plt\n",
    "\n",
    "sys.path.append(\"../\")\n",
    "from lib.utils import FFF_solver"
   ]
  },
  {
   "cell_type": "markdown",
   "id": "hearing-translation",
   "metadata": {},
   "source": [
    "## Auxiliary functions"
   ]
  },
  {
   "cell_type": "code",
   "execution_count": 31,
   "id": "straight-filename",
   "metadata": {},
   "outputs": [],
   "source": [
    "def calculate_I0(params, fiber=\"UNSAT\"):\n",
    "    if fiber==\"UNSAT\":\n",
    "        return params[1]*((3/8)*((1-params[4])/(1+params[4])) - 0.75)\n",
    "    else:\n",
    "        return -params[1]*((3/8)*((1-params[4])/(1+params[4])) - 0.25)\n",
    "    "
   ]
  },
  {
   "cell_type": "markdown",
   "id": "collective-solomon",
   "metadata": {},
   "source": [
    "## Case 1: UNSAT-FFF"
   ]
  },
  {
   "cell_type": "code",
   "execution_count": 206,
   "id": "short-target",
   "metadata": {},
   "outputs": [],
   "source": [
    "# Params vector: [delta, gamma, alpha, beta, sigma]\n",
    "# regulation: f = [0,1] = [activator, repressor]\n",
    "# regulation: g = [0,1,2,3] = [all repressor for now]\n",
    "# coordinate vectors: [x_1R, x_1P, x_2R, x_2P, x_3R, x_3P]\n",
    "\n",
    "params_1 = [1.0,1.0,3.0,1.0,0.5]\n",
    "initial_1 = [0.5, 0.5, 0.5, 0.5, 0.5, 0.5]               \n",
    "\n",
    "c1_fff = FFF_solver(params_1)\n",
    "c1_fff.set_initial(initial_1)\n",
    "c1_fff.set_regulations(1,1)"
   ]
  },
  {
   "cell_type": "code",
   "execution_count": 207,
   "id": "careful-friend",
   "metadata": {},
   "outputs": [
    {
     "data": {
      "text/plain": [
       "<matplotlib.legend.Legend at 0x7f1c58f634e0>"
      ]
     },
     "execution_count": 207,
     "metadata": {},
     "output_type": "execute_result"
    },
    {
     "data": {
      "image/png": "[encoded data removed]",
      "text/plain": [
       "<Figure size 432x288 with 1 Axes>"
      ]
     },
     "metadata": {
      "needs_background": "light"
     },
     "output_type": "display_data"
    }
   ],
   "source": [
    "# Example\n",
    "sol = c1_fff.solve_eq(0,20,10,0.8, dense=True)\n",
    "\n",
    "fig, ax = plt.subplots(1)\n",
    "ax.plot(sol.t, sol.y[1], label=r\"$x_1^P$\")\n",
    "ax.plot(sol.t, sol.y[2], label=r\"$x_2^P$\")\n",
    "ax.plot(sol.t, sol.y[3], label=r\"$x_3^P$\")\n",
    "ax.legend(prop={'size':16})"
   ]
  },
  {
   "cell_type": "code",
   "execution_count": 208,
   "id": "painful-detroit",
   "metadata": {},
   "outputs": [
    {
     "name": "stdout",
     "output_type": "stream",
     "text": [
      "Expected infinitesimal homeostasis point value: -0.625\n",
      "Interval to calculate set point: [-1.0,3.38]\n"
     ]
    }
   ],
   "source": [
    "pm_delta = 2.0\n",
    "npoints = 20\n",
    "I0 = calculate_I0(params_1, \"UNSAT\")\n",
    "I_min, I_max = I0 - pm_delta, I0 + 2*pm_delta\n",
    "if I_min < -params_1[1]: I_min = -params_1[1]\n",
    "input_range = np.linspace(I_min, I_max, npoints)\n",
    "\n",
    "print(f\"Expected infinitesimal homeostasis point value: {I0:0.3}\")\n",
    "print(f\"Interval to calculate set point: [{I_min:0.3},{I_max:0.3}]\")"
   ]
  },
  {
   "cell_type": "code",
   "execution_count": 209,
   "id": "technical-matter",
   "metadata": {},
   "outputs": [
    {
     "data": {
      "text/plain": [
       "<matplotlib.legend.Legend at 0x7f1c58e87b70>"
      ]
     },
     "execution_count": 209,
     "metadata": {},
     "output_type": "execute_result"
    },
    {
     "data": {
      "image/png": "[encoded data removed]",
      "text/plain": [
       "<Figure size 432x288 with 1 Axes>"
      ]
     },
     "metadata": {
      "needs_background": "light"
     },
     "output_type": "display_data"
    }
   ],
   "source": [
    "x1P, x2P, x3P = [], [], []\n",
    "\n",
    "for I in input_range:\n",
    "    sol = c1_fff.solve_eq(0,30,10,I,dense=True)\n",
    "    x1P.append(sol.y[1][-1])\n",
    "    x2P.append(sol.y[3][-1])\n",
    "    x3P.append(sol.y[5][-1])\n",
    "    \n",
    "plt.plot(input_range, x1P)\n",
    "plt.plot(input_range, x2P)\n",
    "plt.plot(input_range, x3P, c=\"red\")\n",
    "plt.xlim([-1.0,1.6])\n",
    "plt.ylim([0.1,0.8])\n",
    "plt.axvline(I0, 0, 1, color=\"black\", label=r\"$I_0$\")\n",
    "plt.axhline(0.2, -2, 2, color=\"black\", ls=\":\")\n",
    "plt.legend(prop={'size':16})"
   ]
  },
  {
   "cell_type": "markdown",
   "id": "spare-harassment",
   "metadata": {},
   "source": [
    "## Case 2: SAT-FFF"
   ]
  },
  {
   "cell_type": "code",
   "execution_count": null,
   "id": "corresponding-consensus",
   "metadata": {},
   "outputs": [],
   "source": [
    "# Params vector: [delta, gamma, alpha, beta, sigma]\n",
    "# regulation: f = [0,1] = [activator, repressor]\n",
    "# regulation: g = [0,1,2,3] = [all repressor for now]\n",
    "# coordinate vectors: [x_1R, x_1P, x_2R, x_2P, x_3R, x_3P]\n",
    "\n",
    "params_1 = [1.0,1.0,3.0,1.0,0.5]\n",
    "initial_1 = [0.5, 0.5, 0.5, 0.5, 0.5, 0.5]               \n",
    "\n",
    "c1_fff = FFF_solver(params_1)\n",
    "c1_fff.set_initial(initial_1)\n",
    "c1_fff.set_regulations(0,1)"
   ]
  }
 ],
 "metadata": {
  "kernelspec": {
   "display_name": "Python 3",
   "language": "python",
   "name": "python3"
  },
  "language_info": {
   "codemirror_mode": {
    "name": "ipython",
    "version": 3
   },
   "file_extension": ".py",
   "mimetype": "text/x-python",
   "name": "python",
   "nbconvert_exporter": "python",
   "pygments_lexer": "ipython3",
   "version": "3.6.12"
  },
  "toc": {
   "base_numbering": 1,
   "nav_menu": {},
   "number_sections": true,
   "sideBar": true,
   "skip_h1_title": false,
   "title_cell": "Table of Contents",
   "title_sidebar": "Contents",
   "toc_cell": false,
   "toc_position": {},
   "toc_section_display": true,
   "toc_window_display": false
  },
  "varInspector": {
   "cols": {
    "lenName": 16,
    "lenType": 16,
    "lenVar": 40
   },
   "kernels_config": {
    "python": {
     "delete_cmd_postfix": "",
     "delete_cmd_prefix": "del ",
     "library": "var_list.py",
     "varRefreshCmd": "print(var_dic_list())"
    },
    "r": {
     "delete_cmd_postfix": ") ",
     "delete_cmd_prefix": "rm(",
     "library": "var_list.r",
     "varRefreshCmd": "cat(var_dic_list()) "
    }
   },
   "types_to_exclude": [
    "module",
    "function",
    "builtin_function_or_method",
    "instance",
    "_Feature"
   ],
   "window_display": false
  }
 },
 "nbformat": 4,
 "nbformat_minor": 5
}
